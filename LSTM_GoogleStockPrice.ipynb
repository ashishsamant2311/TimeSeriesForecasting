{
  "nbformat": 4,
  "nbformat_minor": 0,
  "metadata": {
    "colab": {
      "name": "FT221063_Final_StockPrice.ipynb",
      "provenance": []
    },
    "kernelspec": {
      "name": "python3",
      "display_name": "Python 3"
    },
    "language_info": {
      "name": "python"
    }
  },
  "cells": [
    {
      "cell_type": "code",
      "execution_count": 2,
      "metadata": {
        "colab": {
          "base_uri": "https://localhost:8080/"
        },
        "id": "QyFIwx-z8hHx",
        "outputId": "f499b877-01da-48e0-ecca-c8dd0e763a42"
      },
      "outputs": [
        {
          "output_type": "stream",
          "name": "stdout",
          "text": [
            "       Date    Open    High     Low   Close      Volume\n",
            "0  1/3/2012  325.25  332.83  324.97  663.59   7,380,500\n",
            "1  1/4/2012  331.27  333.87  329.08  666.45   5,749,400\n",
            "2  1/5/2012  329.83  330.75  326.89  657.21   6,590,300\n",
            "3  1/6/2012  328.34  328.77  323.68  648.24   5,405,900\n",
            "4  1/9/2012  322.04  322.29  309.46  620.76  11,688,800\n",
            "\n",
            "\n"
          ]
        },
        {
          "output_type": "execute_result",
          "data": {
            "text/plain": [
              "array([[325.25],\n",
              "       [331.27],\n",
              "       [329.83],\n",
              "       ...,\n",
              "       [793.7 ],\n",
              "       [783.33],\n",
              "       [782.75]])"
            ]
          },
          "metadata": {},
          "execution_count": 2
        }
      ],
      "source": [
        "# Importing the libraries\n",
        "import numpy as np #numerical python\n",
        "import pandas as pd #panel data\n",
        "import matplotlib.pyplot as plt #matlab plot library\n",
        "\n",
        "#Importing the training set\n",
        "dataset_train = pd.read_csv('Google_Stock_Price_Train.csv')\n",
        "print(dataset_train.head())\n",
        "\n",
        "training_set=dataset_train.iloc[:,1:2].values\n",
        "print('\\n')\n",
        "training_set\n"
      ]
    },
    {
      "cell_type": "code",
      "source": [
        "#Feature Scaling\n",
        "from sklearn.preprocessing import MinMaxScaler\n",
        "sc = MinMaxScaler(feature_range=(0,1))\n",
        "training_set_scaled = sc.fit_transform(training_set)\n",
        "print('\\n')\n",
        "training_set_scaled"
      ],
      "metadata": {
        "colab": {
          "base_uri": "https://localhost:8080/"
        },
        "id": "sW4NrdTu98Zv",
        "outputId": "24ce0e39-1c28-473f-cfaa-1c9108425fb6"
      },
      "execution_count": 3,
      "outputs": [
        {
          "output_type": "stream",
          "name": "stdout",
          "text": [
            "\n",
            "\n"
          ]
        },
        {
          "output_type": "execute_result",
          "data": {
            "text/plain": [
              "array([[0.08581368],\n",
              "       [0.09701243],\n",
              "       [0.09433366],\n",
              "       ...,\n",
              "       [0.95725128],\n",
              "       [0.93796041],\n",
              "       [0.93688146]])"
            ]
          },
          "metadata": {},
          "execution_count": 3
        }
      ]
    },
    {
      "cell_type": "code",
      "source": [
        "# Creating a data structure with 60 timesteps and 1 output\n",
        "# Look at the 60 timesteps in the past to get a trend, learn by trial and error\n",
        "X_train=[]\n",
        "y_train=[]\n",
        "# Start from 60th Day and go to 1257 which must be written as 1258\n",
        "# Memorize the first 60 values to predict the 61st price\n",
        "# If you use the range function for example range(1,5) then the model stops at 4\n",
        "for i in range(60,1258):\n",
        "# example when i=60, [60-60:60,0]\n",
        "# Implies [0:60,0]\n",
        "# Data is indexed from 0 so it stops at 59th timestep\n",
        "  X_train.append(training_set_scaled[i-60:i,0])\n",
        "  # the value of i=60 in the beginning\n",
        "  y_train.append(training_set_scaled[i,0])"
      ],
      "metadata": {
        "id": "uVhMqM6U_STO"
      },
      "execution_count": 4,
      "outputs": []
    },
    {
      "cell_type": "code",
      "source": [
        "# X_train and y_train are list and have to be converted to numpy array\n",
        "# only numpy array can be fed to DNN\n",
        "# X_train :check the row. It has 60 past values\n",
        "X_train, y_train = np.array(X_train), np.array(y_train)\n",
        "print(len(y_train)) #1258-60 = 1198\n",
        "\n",
        "# Reshaping\n",
        "# To add dimension to numpy array we must use numpy array\n",
        "# In Python Shape() is used in panda to give number of row(0)/column(1)\n",
        "# RNN accepts 3D tensor with shape (batch_size, timesteps, input_dim)\n",
        "X_train = np.reshape(X_train, (X_train.shape[0], X_train.shape[1], 1))\n",
        "\n",
        "1198"
      ],
      "metadata": {
        "colab": {
          "base_uri": "https://localhost:8080/"
        },
        "id": "N97H-3rGAvwX",
        "outputId": "8a6500ff-3d4b-4aaa-961a-26f37c4b3661"
      },
      "execution_count": 5,
      "outputs": [
        {
          "output_type": "stream",
          "name": "stdout",
          "text": [
            "1198\n"
          ]
        },
        {
          "output_type": "execute_result",
          "data": {
            "text/plain": [
              "1198"
            ]
          },
          "metadata": {},
          "execution_count": 5
        }
      ]
    },
    {
      "cell_type": "code",
      "source": [
        "# Importing the Keras Libraries and Packages\n",
        "from keras.models import Sequential\n",
        "from keras.layers import Dense #Hidden layers\n",
        "from keras.layers import LSTM #Long short term memory\n",
        "from keras.layers import Dropout #Avoid Overfitting\n",
        "\n",
        "# Initializing the RNN\n",
        "# Regressor predicting a stock price so doing regression\n",
        "# Yt = Alpha*Xt-2 + Gamma*Xt3-3 + Constant\n",
        "regressor = Sequential()\n",
        "# Adding the first LSTM layer and some Dropout regularisation\n",
        "# Return_sequences = True because we are going to add another LSTM\n",
        "# Input_Shape=Input only timesteps and indicator\n",
        "# The data set X_train.shape[0] will be taken automatically\n",
        "# The input data is always 3d as required by Keras\n",
        "# Rate of neurons to drop in a LSTM layer during each iteration of training\n",
        "regressor.add(LSTM(units=50, return_sequences=True, input_shape=(X_train.shape[1],1)))\n",
        "regressor.add(Dropout(0.2))\n",
        "\n",
        "# Adding a second LSTM layer and some Dropout regularisation\n",
        "regressor.add(LSTM(units=50, return_sequences=True))\n",
        "regressor.add(Dropout(0.2))\n",
        "\n",
        "# Adding a third LSTM layer and some Dropout regularisation\n",
        "regressor.add(LSTM(units=50, return_sequences=True))\n",
        "regressor.add(Dropout(0.2))\n",
        "\n",
        "# Adding a fourth LSTM layer and some Dropout regularisation\n",
        "# return_sequences: False so dropped return_sequences as default is false\n",
        "regressor.add(LSTM(units=50))\n",
        "regressor.add(Dropout(0.2))\n",
        "\n",
        "#Adding the output layer and connecting a fully connected layer\n",
        "regressor.add(Dense(units=1))\n",
        "\n",
        "#Compiling the RNN\n",
        "regressor.compile(optimizer='adam', loss='mean_squared_error')\n",
        "\n",
        "#Fitting the RNN to the Training set\n",
        "regressor.fit(X_train,y_train,epochs=100,batch_size=32)"
      ],
      "metadata": {
        "colab": {
          "base_uri": "https://localhost:8080/"
        },
        "id": "ZVrZ0bqKyViM",
        "outputId": "0e784280-b8a7-46d1-abaf-888da7884dcd"
      },
      "execution_count": 8,
      "outputs": [
        {
          "output_type": "stream",
          "name": "stdout",
          "text": [
            "Epoch 1/100\n",
            "38/38 [==============================] - 14s 139ms/step - loss: 0.0505\n",
            "Epoch 2/100\n",
            "38/38 [==============================] - 5s 134ms/step - loss: 0.0061\n",
            "Epoch 3/100\n",
            "38/38 [==============================] - 5s 135ms/step - loss: 0.0060\n",
            "Epoch 4/100\n",
            "38/38 [==============================] - 5s 129ms/step - loss: 0.0057\n",
            "Epoch 5/100\n",
            "38/38 [==============================] - 5s 136ms/step - loss: 0.0051\n",
            "Epoch 6/100\n",
            "38/38 [==============================] - 5s 138ms/step - loss: 0.0048\n",
            "Epoch 7/100\n",
            "38/38 [==============================] - 5s 137ms/step - loss: 0.0047\n",
            "Epoch 8/100\n",
            "38/38 [==============================] - 5s 139ms/step - loss: 0.0041\n",
            "Epoch 9/100\n",
            "38/38 [==============================] - 5s 142ms/step - loss: 0.0048\n",
            "Epoch 10/100\n",
            "38/38 [==============================] - 5s 135ms/step - loss: 0.0042\n",
            "Epoch 11/100\n",
            "38/38 [==============================] - 5s 143ms/step - loss: 0.0041\n",
            "Epoch 12/100\n",
            "38/38 [==============================] - 5s 138ms/step - loss: 0.0044\n",
            "Epoch 13/100\n",
            "38/38 [==============================] - 5s 136ms/step - loss: 0.0043\n",
            "Epoch 14/100\n",
            "38/38 [==============================] - 5s 136ms/step - loss: 0.0040\n",
            "Epoch 15/100\n",
            "38/38 [==============================] - 5s 131ms/step - loss: 0.0037\n",
            "Epoch 16/100\n",
            "38/38 [==============================] - 5s 137ms/step - loss: 0.0038\n",
            "Epoch 17/100\n",
            "38/38 [==============================] - 5s 136ms/step - loss: 0.0036\n",
            "Epoch 18/100\n",
            "38/38 [==============================] - 5s 128ms/step - loss: 0.0037\n",
            "Epoch 19/100\n",
            "38/38 [==============================] - 5s 133ms/step - loss: 0.0035\n",
            "Epoch 20/100\n",
            "38/38 [==============================] - 5s 138ms/step - loss: 0.0035\n",
            "Epoch 21/100\n",
            "38/38 [==============================] - 5s 138ms/step - loss: 0.0034\n",
            "Epoch 22/100\n",
            "38/38 [==============================] - 5s 137ms/step - loss: 0.0035\n",
            "Epoch 23/100\n",
            "38/38 [==============================] - 5s 136ms/step - loss: 0.0031\n",
            "Epoch 24/100\n",
            "38/38 [==============================] - 5s 140ms/step - loss: 0.0031\n",
            "Epoch 25/100\n",
            "38/38 [==============================] - 5s 131ms/step - loss: 0.0033\n",
            "Epoch 26/100\n",
            "38/38 [==============================] - 5s 128ms/step - loss: 0.0037\n",
            "Epoch 27/100\n",
            "38/38 [==============================] - 5s 140ms/step - loss: 0.0030\n",
            "Epoch 28/100\n",
            "38/38 [==============================] - 5s 141ms/step - loss: 0.0030\n",
            "Epoch 29/100\n",
            "38/38 [==============================] - 5s 136ms/step - loss: 0.0032\n",
            "Epoch 30/100\n",
            "38/38 [==============================] - 5s 140ms/step - loss: 0.0027\n",
            "Epoch 31/100\n",
            "38/38 [==============================] - 5s 133ms/step - loss: 0.0028\n",
            "Epoch 32/100\n",
            "38/38 [==============================] - 5s 140ms/step - loss: 0.0032\n",
            "Epoch 33/100\n",
            "38/38 [==============================] - 5s 129ms/step - loss: 0.0030\n",
            "Epoch 34/100\n",
            "38/38 [==============================] - 5s 140ms/step - loss: 0.0030\n",
            "Epoch 35/100\n",
            "38/38 [==============================] - 5s 136ms/step - loss: 0.0029\n",
            "Epoch 36/100\n",
            "38/38 [==============================] - 5s 135ms/step - loss: 0.0029\n",
            "Epoch 37/100\n",
            "38/38 [==============================] - 5s 127ms/step - loss: 0.0026\n",
            "Epoch 38/100\n",
            "38/38 [==============================] - 5s 139ms/step - loss: 0.0026\n",
            "Epoch 39/100\n",
            "38/38 [==============================] - 5s 135ms/step - loss: 0.0028\n",
            "Epoch 40/100\n",
            "38/38 [==============================] - 5s 134ms/step - loss: 0.0032\n",
            "Epoch 41/100\n",
            "38/38 [==============================] - 5s 138ms/step - loss: 0.0025\n",
            "Epoch 42/100\n",
            "38/38 [==============================] - 5s 130ms/step - loss: 0.0024\n",
            "Epoch 43/100\n",
            "38/38 [==============================] - 5s 132ms/step - loss: 0.0023\n",
            "Epoch 44/100\n",
            "38/38 [==============================] - 5s 136ms/step - loss: 0.0025\n",
            "Epoch 45/100\n",
            "38/38 [==============================] - 5s 135ms/step - loss: 0.0025\n",
            "Epoch 46/100\n",
            "38/38 [==============================] - 5s 137ms/step - loss: 0.0025\n",
            "Epoch 47/100\n",
            "38/38 [==============================] - 5s 131ms/step - loss: 0.0023\n",
            "Epoch 48/100\n",
            "38/38 [==============================] - 5s 130ms/step - loss: 0.0024\n",
            "Epoch 49/100\n",
            "38/38 [==============================] - 5s 140ms/step - loss: 0.0025\n",
            "Epoch 50/100\n",
            "38/38 [==============================] - 5s 127ms/step - loss: 0.0024\n",
            "Epoch 51/100\n",
            "38/38 [==============================] - 5s 133ms/step - loss: 0.0026\n",
            "Epoch 52/100\n",
            "38/38 [==============================] - 5s 137ms/step - loss: 0.0023\n",
            "Epoch 53/100\n",
            "38/38 [==============================] - 5s 133ms/step - loss: 0.0027\n",
            "Epoch 54/100\n",
            "38/38 [==============================] - 5s 133ms/step - loss: 0.0025\n",
            "Epoch 55/100\n",
            "38/38 [==============================] - 5s 143ms/step - loss: 0.0023\n",
            "Epoch 56/100\n",
            "38/38 [==============================] - 5s 135ms/step - loss: 0.0021\n",
            "Epoch 57/100\n",
            "38/38 [==============================] - 5s 135ms/step - loss: 0.0024\n",
            "Epoch 58/100\n",
            "38/38 [==============================] - 5s 135ms/step - loss: 0.0021\n",
            "Epoch 59/100\n",
            "38/38 [==============================] - 5s 135ms/step - loss: 0.0027\n",
            "Epoch 60/100\n",
            "38/38 [==============================] - 5s 134ms/step - loss: 0.0020\n",
            "Epoch 61/100\n",
            "38/38 [==============================] - 5s 131ms/step - loss: 0.0022\n",
            "Epoch 62/100\n",
            "38/38 [==============================] - 5s 130ms/step - loss: 0.0021\n",
            "Epoch 63/100\n",
            "38/38 [==============================] - 5s 131ms/step - loss: 0.0020\n",
            "Epoch 64/100\n",
            "38/38 [==============================] - 5s 132ms/step - loss: 0.0020\n",
            "Epoch 65/100\n",
            "38/38 [==============================] - 5s 137ms/step - loss: 0.0021\n",
            "Epoch 66/100\n",
            "38/38 [==============================] - 5s 138ms/step - loss: 0.0018\n",
            "Epoch 67/100\n",
            "38/38 [==============================] - 5s 133ms/step - loss: 0.0020\n",
            "Epoch 68/100\n",
            "38/38 [==============================] - 5s 139ms/step - loss: 0.0020\n",
            "Epoch 69/100\n",
            "38/38 [==============================] - 5s 134ms/step - loss: 0.0020\n",
            "Epoch 70/100\n",
            "38/38 [==============================] - 5s 134ms/step - loss: 0.0018\n",
            "Epoch 71/100\n",
            "38/38 [==============================] - 5s 130ms/step - loss: 0.0018\n",
            "Epoch 72/100\n",
            "38/38 [==============================] - 5s 130ms/step - loss: 0.0020\n",
            "Epoch 73/100\n",
            "38/38 [==============================] - 5s 133ms/step - loss: 0.0018\n",
            "Epoch 74/100\n",
            "38/38 [==============================] - 5s 138ms/step - loss: 0.0017\n",
            "Epoch 75/100\n",
            "38/38 [==============================] - 5s 139ms/step - loss: 0.0018\n",
            "Epoch 76/100\n",
            "38/38 [==============================] - 5s 130ms/step - loss: 0.0017\n",
            "Epoch 77/100\n",
            "38/38 [==============================] - 5s 133ms/step - loss: 0.0019\n",
            "Epoch 78/100\n",
            "38/38 [==============================] - 5s 137ms/step - loss: 0.0018\n",
            "Epoch 79/100\n",
            "38/38 [==============================] - 5s 140ms/step - loss: 0.0017\n",
            "Epoch 80/100\n",
            "38/38 [==============================] - 5s 136ms/step - loss: 0.0017\n",
            "Epoch 81/100\n",
            "38/38 [==============================] - 5s 135ms/step - loss: 0.0018\n",
            "Epoch 82/100\n",
            "38/38 [==============================] - 5s 133ms/step - loss: 0.0017\n",
            "Epoch 83/100\n",
            "38/38 [==============================] - 5s 140ms/step - loss: 0.0016\n",
            "Epoch 84/100\n",
            "38/38 [==============================] - 5s 135ms/step - loss: 0.0017\n",
            "Epoch 85/100\n",
            "38/38 [==============================] - 5s 137ms/step - loss: 0.0017\n",
            "Epoch 86/100\n",
            "38/38 [==============================] - 5s 141ms/step - loss: 0.0016\n",
            "Epoch 87/100\n",
            "38/38 [==============================] - 5s 137ms/step - loss: 0.0016\n",
            "Epoch 88/100\n",
            "38/38 [==============================] - 5s 132ms/step - loss: 0.0018\n",
            "Epoch 89/100\n",
            "38/38 [==============================] - 5s 138ms/step - loss: 0.0016\n",
            "Epoch 90/100\n",
            "38/38 [==============================] - 5s 135ms/step - loss: 0.0014\n",
            "Epoch 91/100\n",
            "38/38 [==============================] - 5s 135ms/step - loss: 0.0016\n",
            "Epoch 92/100\n",
            "38/38 [==============================] - 5s 138ms/step - loss: 0.0015\n",
            "Epoch 93/100\n",
            "38/38 [==============================] - 5s 141ms/step - loss: 0.0014\n",
            "Epoch 94/100\n",
            "38/38 [==============================] - 5s 137ms/step - loss: 0.0015\n",
            "Epoch 95/100\n",
            "38/38 [==============================] - 5s 134ms/step - loss: 0.0016\n",
            "Epoch 96/100\n",
            "38/38 [==============================] - 5s 134ms/step - loss: 0.0015\n",
            "Epoch 97/100\n",
            "38/38 [==============================] - 5s 135ms/step - loss: 0.0014\n",
            "Epoch 98/100\n",
            "38/38 [==============================] - 5s 136ms/step - loss: 0.0016\n",
            "Epoch 99/100\n",
            "38/38 [==============================] - 5s 138ms/step - loss: 0.0016\n",
            "Epoch 100/100\n",
            "38/38 [==============================] - 5s 129ms/step - loss: 0.0014\n"
          ]
        },
        {
          "output_type": "execute_result",
          "data": {
            "text/plain": [
              "<keras.callbacks.History at 0x7f38ea937f50>"
            ]
          },
          "metadata": {},
          "execution_count": 8
        }
      ]
    },
    {
      "cell_type": "code",
      "source": [
        "# Getting the real stock price of 2017\n",
        "dataset_test=pd.read_csv('Google_Stock_Price_Test.csv')\n",
        "real_stock_price= dataset_test.iloc[:,1:2].values\n",
        "\n",
        "# Getting the predicted stock price of 2017\n",
        "# Some stock price will come from 2016 and some from January 2017\n",
        "# We will need to concatenate all the stock prices nothing else\n",
        "# Concat along vertical axis set Axis=0\n",
        "# Our RNN was trained on scaled input so data set has to be scaled\n",
        "dataset_total = pd.concat((dataset_train['Open'], dataset_test['Open']),axis=0)\n",
        "\n",
        "# First financial day of 2017 - is 3rd January\n",
        "# We need the first stock price for Jan 2017 upto the last stock price-1 for Jan 2017\n",
        "# Total length is Train + Test + 20 = 1278\n",
        "# From 1278-20-60=1198 - This takes you to 6th of October 2016\n",
        "inputs = dataset_total[len(dataset_total)-len(dataset_test) - 60:].values\n",
        "\n",
        "# The inputs are not in the form we expected because we have not used the iloc function\n",
        "# We have provided column as 1 but rows are unknown which is set to -1\n",
        "# Python on seeing -1 will try to find out the number of rows\n",
        "# Check what reshape(1,-1) means #count number of columns\n",
        "inputs=inputs.reshape(-1,1) #Count number of rows\n",
        "inputs=sc.transform(inputs) # Applying the min-max scaler\n",
        "\n",
        "# We are only doing prediction so only keep x_test\n",
        "X_test=[]\n",
        "# Google Test set has only 20 days, so upperbound is 60+20=80\n",
        "for i in range(60,80):\n",
        "  # range in append is taken from the inputs dataset created\n",
        "  X_test.append(inputs[i-60:i,0])\n",
        "\n",
        "# Outside the for loop\n",
        "X_test = np.array(X_test)\n",
        "\n",
        "# 3D structure is needed as per Keras\n",
        "X_test = np.reshape(X_test,(X_test.shape[0],X_test.shape[1],1))\n",
        "\n",
        "predicted_stock_price = regressor.predict(X_test)\n",
        "# Get the original scale, so apply min-max inverse\n",
        "predicted_stock_price = sc.inverse_transform(predicted_stock_price)\n",
        "predicted_stock_price"
      ],
      "metadata": {
        "colab": {
          "base_uri": "https://localhost:8080/"
        },
        "id": "Oi0n8kss6ZaL",
        "outputId": "fc786ca3-e75e-4b32-80d0-1f1fd4317ccd"
      },
      "execution_count": 12,
      "outputs": [
        {
          "output_type": "execute_result",
          "data": {
            "text/plain": [
              "array([[760.14636],\n",
              "       [757.4309 ],\n",
              "       [757.8596 ],\n",
              "       [759.2143 ],\n",
              "       [762.50195],\n",
              "       [768.3406 ],\n",
              "       [773.5002 ],\n",
              "       [775.41187],\n",
              "       [775.68445],\n",
              "       [775.4672 ],\n",
              "       [775.1908 ],\n",
              "       [774.8074 ],\n",
              "       [774.4789 ],\n",
              "       [774.9079 ],\n",
              "       [775.76666],\n",
              "       [780.4578 ],\n",
              "       [787.26263],\n",
              "       [794.39276],\n",
              "       [797.94073],\n",
              "       [793.2717 ]], dtype=float32)"
            ]
          },
          "metadata": {},
          "execution_count": 12
        }
      ]
    },
    {
      "cell_type": "code",
      "source": [
        "# Visualizing the results\n",
        "plt.plot(real_stock_price, color='red', label='Real Google stock price')\n",
        "plt.plot(predicted_stock_price, color='blue', label='Predicted Google stock price')\n",
        "plt.title('Google stock price prediction')\n",
        "plt.xlabel('Time')\n",
        "plt.ylabel('Google Stock Price')\n",
        "plt.legend()\n",
        "plt.show()"
      ],
      "metadata": {
        "colab": {
          "base_uri": "https://localhost:8080/",
          "height": 295
        },
        "id": "uaHLwABi9viV",
        "outputId": "26642729-0585-4183-f68d-f1ededfea3f2"
      },
      "execution_count": 13,
      "outputs": [
        {
          "output_type": "display_data",
          "data": {
            "image/png": "[encoded data removed]",
            "text/plain": [
              "<Figure size 432x288 with 1 Axes>"
            ]
          },
          "metadata": {
            "needs_background": "light"
          }
        }
      ]
    }
  ]
}